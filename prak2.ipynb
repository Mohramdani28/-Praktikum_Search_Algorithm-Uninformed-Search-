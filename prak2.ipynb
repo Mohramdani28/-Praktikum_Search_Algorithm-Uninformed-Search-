{
  "nbformat": 4,
  "nbformat_minor": 0,
  "metadata": {
    "colab": {
      "provenance": []
    },
    "kernelspec": {
      "name": "python3",
      "display_name": "Python 3"
    },
    "language_info": {
      "name": "python"
    }
  },
  "cells": [
    {
      "cell_type": "code",
      "source": [
        "# Program Python3 untuk mencetak DFS traversal\n",
        "# dari graf yang diberikan\n",
        "from collections import defaultdict\n",
        "\n",
        "# Kelas ini merepresentasikan sebuah graf yang diarahkan\n",
        "# menggunakan representasi daftar kejadian\n",
        "class Graph:\n",
        "    # Konstruktor\n",
        "    def __init__(self):\n",
        "        # Kamus default untuk menyimpan graf\n",
        "        self.graph = defaultdict(list)\n",
        "\n",
        "    # Fungsi untuk menambahkan tepi ke graf\n",
        "    def addEdge(self, u, v):\n",
        "        self.graph[u].append(v)\n",
        "\n",
        "    # Fungsi yang digunakan oleh DFS\n",
        "    def DFSUtil(self, v, visited):\n",
        "        # Tandai node saat ini sebagai sudah dikunjungi\n",
        "        # dan cetak\n",
        "        visited.add(v)\n",
        "        print(v, end=' ')\n",
        "        # Panggil rekursif untuk semua titik ujung\n",
        "        # yang berdekatan dengan titik ini\n",
        "        for neighbour in self.graph[v]:\n",
        "            if neighbour not in visited:\n",
        "                self.DFSUtil(neighbour, visited)\n",
        "\n",
        "    # Fungsi untuk melakukan penelusuran DFS. Ini menggunakan\n",
        "    # DFSUtil() rekursif\n",
        "    def DFS(self, v):\n",
        "        # Buat himpunan untuk menyimpan node yang sudah dikunjungi\n",
        "        visited = set()\n",
        "        # Panggil fungsi bantu rekursif\n",
        "        # untuk mencetak penelusuran DFS\n",
        "        self.DFSUtil(v, visited)\n",
        "\n",
        "\n",
        "# Kode pengguna\n",
        "g = Graph()\n",
        "g.addEdge(0, 1)\n",
        "g.addEdge(0, 2)\n",
        "g.addEdge(1, 2)\n",
        "g.addEdge(2, 0)\n",
        "g.addEdge(2, 3)\n",
        "g.addEdge(3, 3)\n",
        "\n",
        "print(\"Berikut adalah Penelusuran Depth First (dimulai dari node 2)\")\n",
        "\n",
        "# Panggilan fungsi\n",
        "# Fixed: Provide the starting node (2 in this case) to the DFS function\n",
        "g.DFS(2)"
      ],
      "metadata": {
        "colab": {
          "base_uri": "https://localhost:8080/"
        },
        "id": "VCAn3Wp5vh86",
        "outputId": "702f8c00-8cb3-462b-8b67-f9b9d1f3b204"
      },
      "execution_count": 2,
      "outputs": [
        {
          "output_type": "stream",
          "name": "stdout",
          "text": [
            "Berikut adalah Penelusuran Depth First (dimulai dari node 2)\n",
            "2 0 1 3 "
          ]
        }
      ]
    },
    {
      "cell_type": "code",
      "source": [
        "# BFS algorithm in Python\n",
        "\n",
        "import collections\n",
        "\n",
        "# BFS algorithm\n",
        "def bfs(graph, root):\n",
        "    visited, queue = set(), collections.deque([root])\n",
        "    visited.add(root)\n",
        "\n",
        "    while queue:\n",
        "        # Dequeue a vertex from queue\n",
        "        vertex = queue.popleft()\n",
        "        print(str(vertex) + \" \", end=\"\")\n",
        "\n",
        "        # If not visited, mark it as visited, and enqueue it\n",
        "        for neighbour in graph[vertex]:\n",
        "            if neighbour not in visited:\n",
        "                visited.add(neighbour)\n",
        "                queue.append(neighbour)\n",
        "\n",
        "# Change _name_ to __name__\n",
        "if __name__ == '__main__':\n",
        "    graph = {0: [1, 2], 1: [2], 2: [3], 3: [1, 2]}\n",
        "    print(\"Following is Breadth First Traversal: \")\n",
        "    bfs(graph, 0)"
      ],
      "metadata": {
        "colab": {
          "base_uri": "https://localhost:8080/"
        },
        "id": "3lOBb8B5zwxf",
        "outputId": "07701d92-ee46-4697-9f7c-849f62a4c519"
      },
      "execution_count": 3,
      "outputs": [
        {
          "output_type": "stream",
          "name": "stdout",
          "text": [
            "Following is Breadth First Traversal: \n",
            "0 1 2 3 "
          ]
        }
      ]
    },
    {
      "cell_type": "code",
      "source": [
        "# Python3 implementation of Uniform Cost Search (UCS)\n",
        "\n",
        "# returns the minimum cost in a vector (if there are multiple goal states)\n",
        "def uniform_cost_search(goal, start):\n",
        "\n",
        "    # minimum cost up to goal state from starting\n",
        "    global graph, cost\n",
        "    answer = []\n",
        "\n",
        "    # create a priority queue\n",
        "    queue = []\n",
        "\n",
        "    # set the answer vector to max value\n",
        "    for _ in range(len(goal)):\n",
        "        answer.append(float('inf'))\n",
        "\n",
        "    # insert the starting index with cost 0\n",
        "    queue.append([0, start])\n",
        "\n",
        "    # map to store visited nodes\n",
        "    visited = {}\n",
        "\n",
        "    # count of goal states reached\n",
        "    count = 0\n",
        "\n",
        "    # while the queue is not empty\n",
        "    while len(queue) > 0:\n",
        "\n",
        "        # sort queue to get the element with the lowest cost\n",
        "        queue.sort()\n",
        "        # get the element with the lowest cost\n",
        "        cost_to_node, node = queue.pop(0)\n",
        "\n",
        "        # check if the node is a goal state\n",
        "        if node in goal:\n",
        "            index = goal.index(node)\n",
        " # if a new goal is reached\n",
        "            if answer[index] == float('inf'):\n",
        "                count += 1\n",
        "\n",
        "            # if the cost is less, update the answer\n",
        "            if answer[index] > cost_to_node:\n",
        "                answer[index] = cost_to_node\n",
        "\n",
        "        # if all goal states are reached, return the answer\n",
        "        if count == len(goal):\n",
        "            return answer\n",
        "\n",
        "        # check for adjacent nodes\n",
        "        if node not in visited:\n",
        "            for i in range(len(graph[node])):\n",
        "                adj_node = graph[node][i]\n",
        "                total_cost = cost_to_node + cost[(node, adj_node)]\n",
        "                queue.append([total_cost, adj_node])\n",
        "\n",
        "        # mark node as visited\n",
        "        visited[node] = True\n",
        "\n",
        "    return answer\n",
        "\n",
        "# main function\n",
        "# Changed _name_ to __name__\n",
        "if __name__ == '__main__':\n",
        "\n",
        "    # create the graph and cost dictionary\n",
        "    graph, cost = [[] for _ in range(8)], {}\n",
        " # add edges to the graph\n",
        "    graph[0].extend([1, 3])\n",
        "    graph[1].extend([6])\n",
        "    graph[2].extend([1])\n",
        "    graph[3].extend([1, 6, 4])\n",
        "    graph[4].extend([2, 5])\n",
        "    graph[5].extend([2, 6])\n",
        "    graph[6].extend([4])\n",
        "\n",
        "    # add costs to the edges\n",
        "    cost[(0, 1)] = 2\n",
        "    cost[(0, 3)] = 5\n",
        "    cost[(1, 6)] = 1\n",
        "    cost[(3, 1)] = 5\n",
        "    cost[(3, 6)] = 6\n",
        "    cost[(3, 4)] = 2\n",
        "    cost[(2, 1)] = 4\n",
        "    cost[(4, 2)] = 4\n",
        "    cost[(4, 5)] = 3\n",
        "    cost[(5, 2)] = 6\n",
        "    cost[(5, 6)] = 3\n",
        "    cost[(6, 4)] = 7\n",
        "\n",
        "    # goal state\n",
        "    goal = [6]\n",
        "\n",
        "    # get the answer using UCS\n",
        "    answer = uniform_cost_search(goal, 0)\n",
        "# print the answer\n",
        "    print(\"Minimum cost from 0 to 6 is =\",answer[0])"
      ],
      "metadata": {
        "colab": {
          "base_uri": "https://localhost:8080/"
        },
        "id": "9hhJLy1H8TF3",
        "outputId": "407a955e-6ccf-4d4a-fc5e-a25162ac70e5"
      },
      "execution_count": 4,
      "outputs": [
        {
          "output_type": "stream",
          "name": "stdout",
          "text": [
            "Minimum cost from 0 to 6 is = 3\n"
          ]
        }
      ]
    }
  ]
}