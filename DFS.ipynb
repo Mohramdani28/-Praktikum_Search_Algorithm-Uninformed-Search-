{
  "nbformat": 4,
  "nbformat_minor": 0,
  "metadata": {
    "colab": {
      "provenance": [],
      "authorship_tag": "ABX9TyP8U8kpxulc0/HTvyThSafU",
      "include_colab_link": true
    },
    "kernelspec": {
      "name": "python3",
      "display_name": "Python 3"
    },
    "language_info": {
      "name": "python"
    }
  },
  "cells": [
    {
      "cell_type": "markdown",
      "metadata": {
        "id": "view-in-github",
        "colab_type": "text"
      },
      "source": [
        "<a href=\"https://colab.research.google.com/github/Mohramdani28/-Praktikum_Search_Algorithm-Uninformed-Search-/blob/main/DFS.ipynb\" target=\"_parent\"><img src=\"https://colab.research.google.com/assets/colab-badge.svg\" alt=\"Open In Colab\"/></a>"
      ]
    },
    {
      "cell_type": "code",
      "source": [
        "# Program Python3 untuk mencetak DFS traversal\n",
        "# dari graf yang diberikan\n",
        "from collections import defaultdict\n",
        "\n",
        "# Kelas ini merepresentasikan sebuah graf yang diarahkan\n",
        "# menggunakan representasi daftar kejadian\n",
        "class Graph:\n",
        "    # Konstruktor\n",
        "    def __init__(self):\n",
        "        # Kamus default untuk menyimpan graf\n",
        "        self.graph = defaultdict(list)\n",
        "\n",
        "    # Fungsi untuk menambahkan tepi ke graf\n",
        "    def addEdge(self, u, v):\n",
        "        self.graph[u].append(v)\n",
        "\n",
        "    # Fungsi yang digunakan oleh DFS\n",
        "    def DFSUtil(self, v, visited):\n",
        "        # Tandai node saat ini sebagai sudah dikunjungi\n",
        "        # dan cetak\n",
        "        visited.add(v)\n",
        "        print(v, end=' ')\n",
        "        # Panggil rekursif untuk semua titik ujung\n",
        "        # yang berdekatan dengan titik ini\n",
        "        for neighbour in self.graph[v]:\n",
        "            if neighbour not in visited:\n",
        "                self.DFSUtil(neighbour, visited)\n",
        "\n",
        "    # Fungsi untuk melakukan penelusuran DFS. Ini menggunakan\n",
        "    # DFSUtil() rekursif\n",
        "    def DFS(self, v):\n",
        "        # Buat himpunan untuk menyimpan node yang sudah dikunjungi\n",
        "        visited = set()\n",
        "        # Panggil fungsi bantu rekursif\n",
        "        # untuk mencetak penelusuran DFS\n",
        "        self.DFSUtil(v, visited)\n",
        "\n",
        "\n",
        "# Kode pengguna\n",
        "g = Graph()\n",
        "g.addEdge(0, 1)\n",
        "g.addEdge(0, 2)\n",
        "g.addEdge(1, 2)\n",
        "g.addEdge(2, 0)\n",
        "g.addEdge(2, 3)\n",
        "g.addEdge(3, 3)\n",
        "\n",
        "print(\"Berikut adalah Penelusuran Depth First (dimulai dari node 2)\")\n",
        "\n",
        "# Panggilan fungsi\n",
        "# Fixed: Provide the starting node (2 in this case) to the DFS function\n",
        "g.DFS(2)"
      ],
      "metadata": {
        "colab": {
          "base_uri": "https://localhost:8080/"
        },
        "id": "VCAn3Wp5vh86",
        "outputId": "702f8c00-8cb3-462b-8b67-f9b9d1f3b204"
      },
      "execution_count": null,
      "outputs": [
        {
          "output_type": "stream",
          "name": "stdout",
          "text": [
            "Berikut adalah Penelusuran Depth First (dimulai dari node 2)\n",
            "2 0 1 3 "
          ]
        }
      ]
    },
    {
      "cell_type": "markdown",
      "source": [
        "# Bagian Baru"
      ],
      "metadata": {
        "id": "vlpfrzptE1WF"
      }
    }
  ]
}