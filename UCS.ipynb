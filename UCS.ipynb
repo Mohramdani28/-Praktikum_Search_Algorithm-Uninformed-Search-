{
  "nbformat": 4,
  "nbformat_minor": 0,
  "metadata": {
    "colab": {
      "provenance": [],
      "authorship_tag": "ABX9TyP9PIOGKPietzhEjHD6qZcj",
      "include_colab_link": true
    },
    "kernelspec": {
      "name": "python3",
      "display_name": "Python 3"
    },
    "language_info": {
      "name": "python"
    }
  },
  "cells": [
    {
      "cell_type": "markdown",
      "metadata": {
        "id": "view-in-github",
        "colab_type": "text"
      },
      "source": [
        "<a href=\"https://colab.research.google.com/github/Mohramdani28/-Praktikum_Search_Algorithm-Uninformed-Search-/blob/main/UCS.ipynb\" target=\"_parent\"><img src=\"https://colab.research.google.com/assets/colab-badge.svg\" alt=\"Open In Colab\"/></a>"
      ]
    },
    {
      "cell_type": "code",
      "execution_count": 1,
      "metadata": {
        "colab": {
          "base_uri": "https://localhost:8080/"
        },
        "id": "RkjgxcFyJJEH",
        "outputId": "6119dbbd-f14f-4f64-b5b3-2216b6810a39"
      },
      "outputs": [
        {
          "output_type": "stream",
          "name": "stdout",
          "text": [
            "Minimum cost from 0 to 6 is = 3\n"
          ]
        }
      ],
      "source": [
        "# Python3 implementation of Uniform Cost Search (UCS)\n",
        "\n",
        "# returns the minimum cost in a vector (if there are multiple goal states)\n",
        "def uniform_cost_search(goal, start):\n",
        "\n",
        "    # minimum cost up to goal state from starting\n",
        "    global graph, cost\n",
        "    answer = []\n",
        "\n",
        "    # create a priority queue\n",
        "    queue = []\n",
        "\n",
        "    # set the answer vector to max value\n",
        "    for _ in range(len(goal)):\n",
        "        answer.append(float('inf'))\n",
        "\n",
        "    # insert the starting index with cost 0\n",
        "    queue.append([0, start])\n",
        "\n",
        "    # map to store visited nodes\n",
        "    visited = {}\n",
        "\n",
        "    # count of goal states reached\n",
        "    count = 0\n",
        "\n",
        "    # while the queue is not empty\n",
        "    while len(queue) > 0:\n",
        "\n",
        "        # sort queue to get the element with the lowest cost\n",
        "        queue.sort()\n",
        "        # get the element with the lowest cost\n",
        "        cost_to_node, node = queue.pop(0)\n",
        "\n",
        "        # check if the node is a goal state\n",
        "        if node in goal:\n",
        "            index = goal.index(node)\n",
        " # if a new goal is reached\n",
        "            if answer[index] == float('inf'):\n",
        "                count += 1\n",
        "\n",
        "            # if the cost is less, update the answer\n",
        "            if answer[index] > cost_to_node:\n",
        "                answer[index] = cost_to_node\n",
        "\n",
        "        # if all goal states are reached, return the answer\n",
        "        if count == len(goal):\n",
        "            return answer\n",
        "\n",
        "        # check for adjacent nodes\n",
        "        if node not in visited:\n",
        "            for i in range(len(graph[node])):\n",
        "                adj_node = graph[node][i]\n",
        "                total_cost = cost_to_node + cost[(node, adj_node)]\n",
        "                queue.append([total_cost, adj_node])\n",
        "\n",
        "        # mark node as visited\n",
        "        visited[node] = True\n",
        "\n",
        "    return answer\n",
        "\n",
        "# main function\n",
        "# Changed _name_ to __name__\n",
        "if __name__ == '__main__':\n",
        "\n",
        "    # create the graph and cost dictionary\n",
        "    graph, cost = [[] for _ in range(8)], {}\n",
        " # add edges to the graph\n",
        "    graph[0].extend([1, 3])\n",
        "    graph[1].extend([6])\n",
        "    graph[2].extend([1])\n",
        "    graph[3].extend([1, 6, 4])\n",
        "    graph[4].extend([2, 5])\n",
        "    graph[5].extend([2, 6])\n",
        "    graph[6].extend([4])\n",
        "\n",
        "    # add costs to the edges\n",
        "    cost[(0, 1)] = 2\n",
        "    cost[(0, 3)] = 5\n",
        "    cost[(1, 6)] = 1\n",
        "    cost[(3, 1)] = 5\n",
        "    cost[(3, 6)] = 6\n",
        "    cost[(3, 4)] = 2\n",
        "    cost[(2, 1)] = 4\n",
        "    cost[(4, 2)] = 4\n",
        "    cost[(4, 5)] = 3\n",
        "    cost[(5, 2)] = 6\n",
        "    cost[(5, 6)] = 3\n",
        "    cost[(6, 4)] = 7\n",
        "\n",
        "    # goal state\n",
        "    goal = [6]\n",
        "\n",
        "    # get the answer using UCS\n",
        "    answer = uniform_cost_search(goal, 0)\n",
        "# print the answer\n",
        "    print(\"Minimum cost from 0 to 6 is =\",answer[0])"
      ]
    }
  ]
}